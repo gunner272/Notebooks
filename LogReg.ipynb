{
 "cells": [
  {
   "cell_type": "markdown",
   "metadata": {},
   "source": [
    "## Logistic Regression"
   ]
  },
  {
   "cell_type": "markdown",
   "metadata": {},
   "source": [
    "Main Idea is to just code an iteration of gradient descent myself.<br>\n",
    "Forward Pass:<br>\n",
    "$X(n,m)$ -> m examples each of size n stacked as column vectors $X:=[x_n^1,x_n^2,...x_n^m]$ <br>\n",
    "$Y(1,m)$ -> m responses <br>\n",
    "$Z(1,m)$ -> $Z:=[w^T.x^1+b,w^T.x^2+b....w^T.x^m+b]$. So we take dot product of weight vector $w$(n,1)  and add bias (b)<br>\n",
    "$A(1,m)$ -> $A:=[\\theta(z^1),\\theta(z^2)....\\theta(z^m)]$. These are our predictions<br>\n",
    "$y' = \\theta(z) = \\frac{1}{1 + e^{-z}}$.<br>\n",
    "$\\frac{dy}{dz} = \\frac{d\\theta(z)}{dz} = \\frac{e^{-z}}{{(1+e^{-z})^2}} = \\theta(z)(1-\\theta(z))$ <br>\n",
    "$\\frac{dA}{dz} = [\\frac{da^1}{dz}......\\frac{da^m}{dz}] = [\\theta(z^1)(1-\\theta(z^1))...\\theta(z^m)(1-\\theta(z^m)]$<br><br>\n",
    "$\\frac{dy}{dw_1} = \\frac{dy}{dz}.\\frac{dz}{dw_1}$ = $\\theta(z).\\theta(1-z).x_1$<br><br>\n",
    "$\\frac{dy}{db} = \\frac{dy}{dz}.\\frac{dz}{db} = [\\frac{dy}{dz}....\\frac{dy}{dz}]$\n"
   ]
  },
  {
   "cell_type": "code",
   "execution_count": 2,
   "metadata": {},
   "outputs": [],
   "source": [
    "import numpy as np"
   ]
  },
  {
   "cell_type": "code",
   "execution_count": 3,
   "metadata": {},
   "outputs": [],
   "source": [
    "def Z(w,x,b):\n",
    "    return np.dot(w,x) + b"
   ]
  },
  {
   "cell_type": "code",
   "execution_count": 4,
   "metadata": {},
   "outputs": [],
   "source": [
    "def theta(z):\n",
    "    return 1/(1+np.exp(-z))"
   ]
  },
  {
   "cell_type": "code",
   "execution_count": 5,
   "metadata": {},
   "outputs": [],
   "source": [
    "def dz(z):\n",
    "    return theta(z)*(1-theta(z))"
   ]
  },
  {
   "cell_type": "code",
   "execution_count": 9,
   "metadata": {},
   "outputs": [],
   "source": [
    "def gd(w,b,X,Y,alpha):\n",
    "    Z = (np.sum(w*X,axis=1) + b).reshape(X.shape[0],1)\n",
    "    A = theta(Z)\n",
    "    dz = A - Y\n",
    "    dw = (np.sum(dz*X,axis=0).reshape(w.shape[0],w.shape[1])) # OG says dw = X*dz_transpose\n",
    "    db = np.sum(dz)\n",
    "    w = w - (alpha*dw)\n",
    "    b = b - (alpha*db)"
   ]
  },
  {
   "cell_type": "code",
   "execution_count": 10,
   "metadata": {},
   "outputs": [
    {
     "name": "stdout",
     "output_type": "stream",
     "text": [
      "(1, 3)\n",
      "(4, 3)\n",
      "[[ 0.95689275]\n",
      " [ 0.95689275]\n",
      " [ 0.95689275]\n",
      " [ 0.99776215]]\n",
      "[[-1.86620254 -1.86620254 -1.86620254]]\n",
      "2.86844038666\n"
     ]
    }
   ],
   "source": [
    "w = np.array([[1,1,1]])\n",
    "print (w.shape)\n",
    "X = np.array([[1,1,1],[1,1,1],[1,1,1],[2,2,2]])\n",
    "print (X.shape)\n",
    "b = 0.1\n",
    "Z = (np.sum(w*X,axis=1) + b).reshape(X.shape[0],1) \n",
    "print (theta(Z)) \n",
    "Y = np.array([[0],[0],[0],[1]])\n",
    "dz = theta(Z) - Y\n",
    "print (w - (np.sum(dz*X,axis=0).reshape(w.shape[0],w.shape[1])))\n",
    "print (np.sum(dz))\n",
    "alpha = 1.0"
   ]
  },
  {
   "cell_type": "code",
   "execution_count": 11,
   "metadata": {},
   "outputs": [],
   "source": [
    "gd(w,b,X,Y,alpha)"
   ]
  }
 ],
 "metadata": {
  "kernelspec": {
   "display_name": "Python 3",
   "language": "python",
   "name": "python3"
  },
  "language_info": {
   "codemirror_mode": {
    "name": "ipython",
    "version": 3
   },
   "file_extension": ".py",
   "mimetype": "text/x-python",
   "name": "python",
   "nbconvert_exporter": "python",
   "pygments_lexer": "ipython3",
   "version": "3.6.4"
  },
  "toc": {
   "colors": {
    "hover_highlight": "#DAA520",
    "navigate_num": "#000000",
    "navigate_text": "#333333",
    "running_highlight": "#FF0000",
    "selected_highlight": "#FFD700",
    "sidebar_border": "#EEEEEE",
    "wrapper_background": "#FFFFFF"
   },
   "moveMenuLeft": true,
   "nav_menu": {
    "height": "266px",
    "width": "252px"
   },
   "navigate_menu": true,
   "number_sections": true,
   "sideBar": true,
   "threshold": 4,
   "toc_cell": false,
   "toc_section_display": "block",
   "toc_window_display": false,
   "widenNotebook": false
  }
 },
 "nbformat": 4,
 "nbformat_minor": 2
}
